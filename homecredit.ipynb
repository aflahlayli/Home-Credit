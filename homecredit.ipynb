{
  "metadata": {
    "language_info": {
      "codemirror_mode": {
        "name": "python",
        "version": 3
      },
      "file_extension": ".py",
      "mimetype": "text/x-python",
      "name": "python",
      "nbconvert_exporter": "python",
      "pygments_lexer": "ipython3",
      "version": "3.8"
    },
    "kernelspec": {
      "name": "python",
      "display_name": "Python (Pyodide)",
      "language": "python"
    }
  },
  "nbformat_minor": 4,
  "nbformat": 4,
  "cells": [
    {
      "cell_type": "code",
      "source": "# Import\nimport pandas as pd\nimport numpy as np\nimport matplotlib.pyplot as plt\nimport seaborn as sns\nimport xgboost\nimport plotly.graph_objects as go\nimport statsmodels.api as smd\n\nfrom sklearn import metrics\nfrom sklearn.preprocessing import LabelEncoder, StandardScaler, MinMaxScaler\nfrom sklearn.model_selection import train_test_split\nfrom sklearn.linear_model import LogisticRegression\nfrom xgboost import XGBClassifier\nfrom sklearn.metrics import accuracy_score, confusion_matrix, roc_curve, roc_auc_score, classification_report, f1_score, precision_score, recall_score\nfrom sklearn.feature_selection import RFE\nfrom sklearn.impute import SimpleImputer\nfrom sklearn.ensemble import RandomForestClassifier",
      "metadata": {
        "tags": []
      },
      "execution_count": null,
      "outputs": []
    },
    {
      "cell_type": "code",
      "source": "pd.set_option('display.max_columns', 500)\npd.set_option('display.max_rows', 500)",
      "metadata": {},
      "execution_count": null,
      "outputs": []
    },
    {
      "cell_type": "markdown",
      "source": "# Import Data\napplication_train = pd.read_csv(\"application_train.csv\",encoding = \"ISO-8859-1\")\napplication_test = pd.read_csv(\"application_test.csv\",encoding = \"ISO-8859-1\")\nbureau = pd.read_csv(\"bureau.csv\",encoding = \"ISO-8859-1\")\nbureau_balance = pd.read_csv(\"bureau_balance.csv\",encoding = \"ISO-8859-1\")\nprevious_application = pd.read_csv(\"previous_application.csv\",encoding = \"ISO-8859-1\")\nPOSH_CASH_balance = pd.read_csv(\"POS_CASH_balance.csv\",encoding = \"ISO-8859-1\")\ncredit_card_balance = pd.read_csv(\"credit_card_balance.csv\",encoding = \"ISO-8859-1\")\ninstallments_payments = pd.read_csv(\"installments_payments.csv\",encoding = \"ISO-8859-1\")",
      "metadata": {}
    }
  ]
}